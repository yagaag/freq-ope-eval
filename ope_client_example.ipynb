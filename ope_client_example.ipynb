{
 "cells": [
  {
   "cell_type": "code",
   "execution_count": 12,
   "id": "e2d2f5ce",
   "metadata": {},
   "outputs": [],
   "source": [
    "# Import libraries\n",
    "from key import keygen\n",
    "from ope_server import OPE\n",
    "from aes_cipher import AESCipher\n",
    "from client import Client"
   ]
  },
  {
   "cell_type": "code",
   "execution_count": 8,
   "id": "64eb79b4",
   "metadata": {},
   "outputs": [
    {
     "name": "stdout",
     "output_type": "stream",
     "text": [
      "Plaintext: yagaa\n",
      "Ciphertext: Gzu46O/myIb8AS3w56b+w+ltaDgCwyMCRpiCBBXNdKc=\n",
      "Decrypted text: yagaa\n"
     ]
    }
   ],
   "source": [
    "# Step 1: Initialise a new AES encryption object\n",
    "aes = AESCipher(keygen(128))\n",
    "\n",
    "# Test AES object\n",
    "plaintext = 'yagaa'\n",
    "print(\"Plaintext:\", plaintext)\n",
    "cipher = aes.encrypt(plaintext)\n",
    "print(\"Ciphertext:\", cipher)\n",
    "pt = aes.decrypt(cipher)\n",
    "print(\"Decrypted text:\", pt)"
   ]
  },
  {
   "cell_type": "code",
   "execution_count": 17,
   "id": "45eaa120",
   "metadata": {},
   "outputs": [],
   "source": [
    "# Step 2: Initialize an OPE server with ciphertext space range\n",
    "ope = OPE(1<<8)"
   ]
  },
  {
   "cell_type": "code",
   "execution_count": 18,
   "id": "09edc579",
   "metadata": {},
   "outputs": [],
   "source": [
    "# Step 3: Create a Client object with the OPE server and AES\n",
    "client = Client(aes, ope)"
   ]
  },
  {
   "cell_type": "code",
   "execution_count": 19,
   "id": "549e7491",
   "metadata": {},
   "outputs": [],
   "source": [
    "# Step 4: Add plaintexts\n",
    "plaintexts = [320, 12, 4139, 500, 320]\n",
    "for pt in plaintexts:\n",
    "    client.add_plaintext(pt)"
   ]
  },
  {
   "cell_type": "code",
   "execution_count": 20,
   "id": "d9fe7839",
   "metadata": {},
   "outputs": [
    {
     "name": "stdout",
     "output_type": "stream",
     "text": [
      "[64, 96, 128, 160, 192]\n",
      "{128: 'RufdPrF3jOgeB1MlOyFKoFX886SDN122HllQg44uVv0=', 64: 'io2JkhkF8NvyJpbFfW7awhC6XiMCRVBaSe2XQBtVE2Y=', 192: '7Z05hCI+9fF9PgrNXcQ4k1jr43/1RCWBzru1SdK3QGA=', 160: 'JVHYjeAFBtzkMhmPMcratdpJl9ozsKad3SbkNk58UhQ=', 96: 'J54CjFICZUHJPt06QYBXs9S/moc2vqtOFrU2PVNJzwY='}\n"
     ]
    }
   ],
   "source": [
    "# See ciphertext tree\n",
    "print(client.ope.root.inorderTraversal())\n",
    "\n",
    "# See encrypted dictionary\n",
    "print(client.ope.dct)"
   ]
  },
  {
   "cell_type": "code",
   "execution_count": null,
   "id": "95d36569",
   "metadata": {},
   "outputs": [],
   "source": []
  }
 ],
 "metadata": {
  "kernelspec": {
   "display_name": "Python 3",
   "language": "python",
   "name": "python3"
  },
  "language_info": {
   "codemirror_mode": {
    "name": "ipython",
    "version": 3
   },
   "file_extension": ".py",
   "mimetype": "text/x-python",
   "name": "python",
   "nbconvert_exporter": "python",
   "pygments_lexer": "ipython3",
   "version": "3.9.12"
  }
 },
 "nbformat": 4,
 "nbformat_minor": 5
}
