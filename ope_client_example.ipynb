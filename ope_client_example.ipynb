{
 "cells": [
  {
   "cell_type": "code",
   "execution_count": 13,
   "id": "e2d2f5ce",
   "metadata": {},
   "outputs": [],
   "source": [
    "# Import libraries\n",
    "from freq_ope.key import keygen\n",
    "from freq_ope.server import OPEServer\n",
    "from freq_ope.aes import AESCipher\n",
    "from freq_ope.client import OPEClient"
   ]
  },
  {
   "cell_type": "code",
   "execution_count": 12,
   "id": "64eb79b4",
   "metadata": {},
   "outputs": [
    {
     "name": "stdout",
     "output_type": "stream",
     "text": [
      "Plaintext: yagaa\n",
      "Ciphertext: iw3ago7jpideRz+1YXMLH4rlF1sgdaWrm4iCIg0h6Lo=\n",
      "Decrypted text: yagaa\n"
     ]
    }
   ],
   "source": [
    "# Step 1: Initialise a new AES encryption object\n",
    "aes = AESCipher(keygen(128))\n",
    "\n",
    "# Test AES object\n",
    "plaintext = 'yagaa'\n",
    "print(\"Plaintext:\", plaintext)\n",
    "cipher = aes.encrypt(plaintext)\n",
    "print(\"Ciphertext:\", cipher)\n",
    "pt = aes.decrypt(cipher)\n",
    "print(\"Decrypted text:\", pt)"
   ]
  },
  {
   "cell_type": "code",
   "execution_count": 5,
   "id": "45eaa120",
   "metadata": {},
   "outputs": [],
   "source": [
    "# Step 2: Initialize an OPE server with ciphertext space range\n",
    "server = OPEServer(1<<8)"
   ]
  },
  {
   "cell_type": "code",
   "execution_count": 6,
   "id": "09edc579",
   "metadata": {},
   "outputs": [],
   "source": [
    "# Step 3: Create a Client object with the OPE server and AES\n",
    "client = OPEClient(aes, server)"
   ]
  },
  {
   "cell_type": "code",
   "execution_count": 7,
   "id": "549e7491",
   "metadata": {},
   "outputs": [],
   "source": [
    "# Step 4: Add plaintexts\n",
    "plaintexts = [320, 12, 4139, 500, 320]\n",
    "for pt in plaintexts:\n",
    "    client.add_plaintext(pt)"
   ]
  },
  {
   "cell_type": "code",
   "execution_count": 8,
   "id": "d9fe7839",
   "metadata": {},
   "outputs": [
    {
     "name": "stdout",
     "output_type": "stream",
     "text": [
      "[64, 96, 128, 160, 192]\n",
      "{128: '7N0FbSxw02+XU6BjPdBuVt17lbplHdjvdPFaX3R2ixo=', 64: 'kQIveusC+N1r18oZ6afcbYhx8VDcNH26JUvRsxGBUXc=', 192: 'bf9+k8CTZpkblNiYkvmdc3cEM3gfp0qbNud3+PUal6A=', 160: 'oLw/b4pIeZ3QDoM3eoZkzfXvzXq8tc5oKc60+/obQEk=', 96: 'K+3rwgTzA4ErnkmNovzJQog4XoAh4OU8+zCiPzIMSUw='}\n"
     ]
    }
   ],
   "source": [
    "# View ciphertext tree\n",
    "print(client.ope.root.inorderTraversal())\n",
    "\n",
    "# View encrypted dictionary\n",
    "print(client.ope.dct)"
   ]
  },
  {
   "cell_type": "code",
   "execution_count": null,
   "id": "95d36569",
   "metadata": {},
   "outputs": [],
   "source": []
  }
 ],
 "metadata": {
  "kernelspec": {
   "display_name": "Python 3",
   "language": "python",
   "name": "python3"
  },
  "language_info": {
   "codemirror_mode": {
    "name": "ipython",
    "version": 3
   },
   "file_extension": ".py",
   "mimetype": "text/x-python",
   "name": "python",
   "nbconvert_exporter": "python",
   "pygments_lexer": "ipython3",
   "version": "3.9.12"
  }
 },
 "nbformat": 4,
 "nbformat_minor": 5
}
